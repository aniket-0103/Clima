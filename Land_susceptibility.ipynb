{
 "cells": [
  {
   "cell_type": "code",
   "execution_count": 2,
   "id": "a8ea429e",
   "metadata": {
    "scrolled": true
   },
   "outputs": [],
   "source": [
    "import georasters as gr \n",
    "import pandas as pd "
   ]
  },
  {
   "cell_type": "code",
   "execution_count": 7,
   "id": "d8ebb4ff",
   "metadata": {
    "scrolled": true
   },
   "outputs": [],
   "source": [
    "slope = gr.from_file('Slope.tif')\n",
    "aspect = gr.from_file('Aspect.tif')\n",
    "landslide = gr.from_file('Landslide_UK.tif')"
   ]
  },
  {
   "cell_type": "code",
   "execution_count": 8,
   "id": "d9be3cc6",
   "metadata": {},
   "outputs": [],
   "source": [
    "slopeData = slope.to_pandas()\n",
    "aspectData = aspect.to_pandas()\n",
    "landslideData = landslide.to_pandas()"
   ]
  },
  {
   "cell_type": "code",
   "execution_count": 4,
   "id": "5d789247",
   "metadata": {},
   "outputs": [
    {
     "data": {
      "text/html": [
       "<div>\n",
       "<style scoped>\n",
       "    .dataframe tbody tr th:only-of-type {\n",
       "        vertical-align: middle;\n",
       "    }\n",
       "\n",
       "    .dataframe tbody tr th {\n",
       "        vertical-align: top;\n",
       "    }\n",
       "\n",
       "    .dataframe thead th {\n",
       "        text-align: right;\n",
       "    }\n",
       "</style>\n",
       "<table border=\"1\" class=\"dataframe\">\n",
       "  <thead>\n",
       "    <tr style=\"text-align: right;\">\n",
       "      <th></th>\n",
       "      <th>row</th>\n",
       "      <th>col</th>\n",
       "      <th>True</th>\n",
       "      <th>x</th>\n",
       "      <th>y</th>\n",
       "    </tr>\n",
       "  </thead>\n",
       "  <tbody>\n",
       "    <tr>\n",
       "      <th>0</th>\n",
       "      <td>0</td>\n",
       "      <td>1787</td>\n",
       "      <td>27.940401</td>\n",
       "      <td>79.062500</td>\n",
       "      <td>31.4625</td>\n",
       "    </tr>\n",
       "    <tr>\n",
       "      <th>1</th>\n",
       "      <td>0</td>\n",
       "      <td>1788</td>\n",
       "      <td>28.816591</td>\n",
       "      <td>79.063333</td>\n",
       "      <td>31.4625</td>\n",
       "    </tr>\n",
       "    <tr>\n",
       "      <th>2</th>\n",
       "      <td>0</td>\n",
       "      <td>1789</td>\n",
       "      <td>27.351149</td>\n",
       "      <td>79.064167</td>\n",
       "      <td>31.4625</td>\n",
       "    </tr>\n",
       "    <tr>\n",
       "      <th>3</th>\n",
       "      <td>0</td>\n",
       "      <td>1790</td>\n",
       "      <td>23.227943</td>\n",
       "      <td>79.065000</td>\n",
       "      <td>31.4625</td>\n",
       "    </tr>\n",
       "    <tr>\n",
       "      <th>4</th>\n",
       "      <td>0</td>\n",
       "      <td>1791</td>\n",
       "      <td>17.590118</td>\n",
       "      <td>79.065833</td>\n",
       "      <td>31.4625</td>\n",
       "    </tr>\n",
       "  </tbody>\n",
       "</table>\n",
       "</div>"
      ],
      "text/plain": [
       "   row   col       True          x        y\n",
       "0    0  1787  27.940401  79.062500  31.4625\n",
       "1    0  1788  28.816591  79.063333  31.4625\n",
       "2    0  1789  27.351149  79.064167  31.4625\n",
       "3    0  1790  23.227943  79.065000  31.4625\n",
       "4    0  1791  17.590118  79.065833  31.4625"
      ]
     },
     "execution_count": 4,
     "metadata": {},
     "output_type": "execute_result"
    }
   ],
   "source": [
    "slopeData.head()"
   ]
  },
  {
   "cell_type": "code",
   "execution_count": 5,
   "id": "c4652fbc",
   "metadata": {
    "scrolled": true
   },
   "outputs": [
    {
     "data": {
      "text/html": [
       "<div>\n",
       "<style scoped>\n",
       "    .dataframe tbody tr th:only-of-type {\n",
       "        vertical-align: middle;\n",
       "    }\n",
       "\n",
       "    .dataframe tbody tr th {\n",
       "        vertical-align: top;\n",
       "    }\n",
       "\n",
       "    .dataframe thead th {\n",
       "        text-align: right;\n",
       "    }\n",
       "</style>\n",
       "<table border=\"1\" class=\"dataframe\">\n",
       "  <thead>\n",
       "    <tr style=\"text-align: right;\">\n",
       "      <th></th>\n",
       "      <th>row</th>\n",
       "      <th>col</th>\n",
       "      <th>True</th>\n",
       "      <th>x</th>\n",
       "      <th>y</th>\n",
       "    </tr>\n",
       "  </thead>\n",
       "  <tbody>\n",
       "    <tr>\n",
       "      <th>0</th>\n",
       "      <td>0</td>\n",
       "      <td>1787</td>\n",
       "      <td>192.397369</td>\n",
       "      <td>79.062500</td>\n",
       "      <td>31.4625</td>\n",
       "    </tr>\n",
       "    <tr>\n",
       "      <th>1</th>\n",
       "      <td>0</td>\n",
       "      <td>1788</td>\n",
       "      <td>220.952927</td>\n",
       "      <td>79.063333</td>\n",
       "      <td>31.4625</td>\n",
       "    </tr>\n",
       "    <tr>\n",
       "      <th>2</th>\n",
       "      <td>0</td>\n",
       "      <td>1789</td>\n",
       "      <td>220.403107</td>\n",
       "      <td>79.064167</td>\n",
       "      <td>31.4625</td>\n",
       "    </tr>\n",
       "    <tr>\n",
       "      <th>3</th>\n",
       "      <td>0</td>\n",
       "      <td>1790</td>\n",
       "      <td>194.511459</td>\n",
       "      <td>79.065000</td>\n",
       "      <td>31.4625</td>\n",
       "    </tr>\n",
       "    <tr>\n",
       "      <th>4</th>\n",
       "      <td>0</td>\n",
       "      <td>1791</td>\n",
       "      <td>170.814560</td>\n",
       "      <td>79.065833</td>\n",
       "      <td>31.4625</td>\n",
       "    </tr>\n",
       "  </tbody>\n",
       "</table>\n",
       "</div>"
      ],
      "text/plain": [
       "   row   col        True          x        y\n",
       "0    0  1787  192.397369  79.062500  31.4625\n",
       "1    0  1788  220.952927  79.063333  31.4625\n",
       "2    0  1789  220.403107  79.064167  31.4625\n",
       "3    0  1790  194.511459  79.065000  31.4625\n",
       "4    0  1791  170.814560  79.065833  31.4625"
      ]
     },
     "execution_count": 5,
     "metadata": {},
     "output_type": "execute_result"
    }
   ],
   "source": [
    "aspectData.head()"
   ]
  },
  {
   "cell_type": "code",
   "execution_count": 10,
   "id": "63f7f597",
   "metadata": {},
   "outputs": [
    {
     "data": {
      "text/html": [
       "<div>\n",
       "<style scoped>\n",
       "    .dataframe tbody tr th:only-of-type {\n",
       "        vertical-align: middle;\n",
       "    }\n",
       "\n",
       "    .dataframe tbody tr th {\n",
       "        vertical-align: top;\n",
       "    }\n",
       "\n",
       "    .dataframe thead th {\n",
       "        text-align: right;\n",
       "    }\n",
       "</style>\n",
       "<table border=\"1\" class=\"dataframe\">\n",
       "  <thead>\n",
       "    <tr style=\"text-align: right;\">\n",
       "      <th></th>\n",
       "      <th>row</th>\n",
       "      <th>col</th>\n",
       "      <th>True</th>\n",
       "      <th>x</th>\n",
       "      <th>y</th>\n",
       "    </tr>\n",
       "  </thead>\n",
       "  <tbody>\n",
       "    <tr>\n",
       "      <th>0</th>\n",
       "      <td>12</td>\n",
       "      <td>5</td>\n",
       "      <td>21.080000</td>\n",
       "      <td>77.874514</td>\n",
       "      <td>31.177661</td>\n",
       "    </tr>\n",
       "    <tr>\n",
       "      <th>1</th>\n",
       "      <td>12</td>\n",
       "      <td>6</td>\n",
       "      <td>21.080000</td>\n",
       "      <td>77.946548</td>\n",
       "      <td>31.177661</td>\n",
       "    </tr>\n",
       "    <tr>\n",
       "      <th>2</th>\n",
       "      <td>12</td>\n",
       "      <td>7</td>\n",
       "      <td>18.120001</td>\n",
       "      <td>78.018582</td>\n",
       "      <td>31.177661</td>\n",
       "    </tr>\n",
       "    <tr>\n",
       "      <th>3</th>\n",
       "      <td>13</td>\n",
       "      <td>7</td>\n",
       "      <td>18.120001</td>\n",
       "      <td>78.018582</td>\n",
       "      <td>31.153741</td>\n",
       "    </tr>\n",
       "    <tr>\n",
       "      <th>4</th>\n",
       "      <td>13</td>\n",
       "      <td>8</td>\n",
       "      <td>18.120001</td>\n",
       "      <td>78.090617</td>\n",
       "      <td>31.153741</td>\n",
       "    </tr>\n",
       "  </tbody>\n",
       "</table>\n",
       "</div>"
      ],
      "text/plain": [
       "   row  col       True          x          y\n",
       "0   12    5  21.080000  77.874514  31.177661\n",
       "1   12    6  21.080000  77.946548  31.177661\n",
       "2   12    7  18.120001  78.018582  31.177661\n",
       "3   13    7  18.120001  78.018582  31.153741\n",
       "4   13    8  18.120001  78.090617  31.153741"
      ]
     },
     "execution_count": 10,
     "metadata": {},
     "output_type": "execute_result"
    }
   ],
   "source": [
    "landslideData.head()"
   ]
  },
  {
   "cell_type": "code",
   "execution_count": 11,
   "id": "8ab113e0",
   "metadata": {},
   "outputs": [],
   "source": [
    "landslideData.to_csv('Landslide.csv')"
   ]
  }
 ],
 "metadata": {
  "kernelspec": {
   "display_name": "Python 3 (ipykernel)",
   "language": "python",
   "name": "python3"
  },
  "language_info": {
   "codemirror_mode": {
    "name": "ipython",
    "version": 3
   },
   "file_extension": ".py",
   "mimetype": "text/x-python",
   "name": "python",
   "nbconvert_exporter": "python",
   "pygments_lexer": "ipython3",
   "version": "3.10.12"
  }
 },
 "nbformat": 4,
 "nbformat_minor": 5
}
